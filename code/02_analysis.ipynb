{
 "cells": [
  {
   "cell_type": "code",
   "execution_count": 2,
   "metadata": {},
   "outputs": [
    {
     "data": {
      "application/vnd.jupyter.widget-view+json": {
       "model_id": "dc103da3d8c948b7bc64edeceadd905f",
       "version_major": 2,
       "version_minor": 0
      },
      "text/plain": [
       "Downloading:   0%|          | 0.00/968 [00:00<?, ?B/s]"
      ]
     },
     "metadata": {},
     "output_type": "display_data"
    },
    {
     "data": {
      "application/vnd.jupyter.widget-view+json": {
       "model_id": "3148b55211d64607a2c840a584d74c2b",
       "version_major": 2,
       "version_minor": 0
      },
      "text/plain": [
       "Downloading:   0%|          | 0.00/3.79k [00:00<?, ?B/s]"
      ]
     },
     "metadata": {},
     "output_type": "display_data"
    },
    {
     "data": {
      "application/vnd.jupyter.widget-view+json": {
       "model_id": "5490af81c81440ab852cefddc1763b47",
       "version_major": 2,
       "version_minor": 0
      },
      "text/plain": [
       "Downloading:   0%|          | 0.00/645 [00:00<?, ?B/s]"
      ]
     },
     "metadata": {},
     "output_type": "display_data"
    },
    {
     "data": {
      "application/vnd.jupyter.widget-view+json": {
       "model_id": "bbe82e16d6bf4e229d823ad7cabb4b8a",
       "version_major": 2,
       "version_minor": 0
      },
      "text/plain": [
       "Downloading:   0%|          | 0.00/122 [00:00<?, ?B/s]"
      ]
     },
     "metadata": {},
     "output_type": "display_data"
    },
    {
     "data": {
      "application/vnd.jupyter.widget-view+json": {
       "model_id": "ae8ec34862934ec9982b56a24246e307",
       "version_major": 2,
       "version_minor": 0
      },
      "text/plain": [
       "Downloading:   0%|          | 0.00/229 [00:00<?, ?B/s]"
      ]
     },
     "metadata": {},
     "output_type": "display_data"
    },
    {
     "data": {
      "application/vnd.jupyter.widget-view+json": {
       "model_id": "7049304c8bbf4cc4bf8a870b9b6fa951",
       "version_major": 2,
       "version_minor": 0
      },
      "text/plain": [
       "Downloading:   0%|          | 0.00/471M [00:00<?, ?B/s]"
      ]
     },
     "metadata": {},
     "output_type": "display_data"
    },
    {
     "data": {
      "application/vnd.jupyter.widget-view+json": {
       "model_id": "b3a4d233aca84a53b6a4dc11f568cf93",
       "version_major": 2,
       "version_minor": 0
      },
      "text/plain": [
       "Downloading:   0%|          | 0.00/53.0 [00:00<?, ?B/s]"
      ]
     },
     "metadata": {},
     "output_type": "display_data"
    },
    {
     "data": {
      "application/vnd.jupyter.widget-view+json": {
       "model_id": "3777da739bb145768587eae1764d7515",
       "version_major": 2,
       "version_minor": 0
      },
      "text/plain": [
       "Downloading:   0%|          | 0.00/5.07M [00:00<?, ?B/s]"
      ]
     },
     "metadata": {},
     "output_type": "display_data"
    },
    {
     "data": {
      "application/vnd.jupyter.widget-view+json": {
       "model_id": "b359f1495ce943ee8ff9c22c6f5b92d2",
       "version_major": 2,
       "version_minor": 0
      },
      "text/plain": [
       "Downloading:   0%|          | 0.00/239 [00:00<?, ?B/s]"
      ]
     },
     "metadata": {},
     "output_type": "display_data"
    },
    {
     "data": {
      "application/vnd.jupyter.widget-view+json": {
       "model_id": "c70e8e9d43984189bfee97528bd854bc",
       "version_major": 2,
       "version_minor": 0
      },
      "text/plain": [
       "Downloading:   0%|          | 0.00/9.08M [00:00<?, ?B/s]"
      ]
     },
     "metadata": {},
     "output_type": "display_data"
    },
    {
     "data": {
      "application/vnd.jupyter.widget-view+json": {
       "model_id": "c8cf7bf97486483c83f9a547eee91e49",
       "version_major": 2,
       "version_minor": 0
      },
      "text/plain": [
       "Downloading:   0%|          | 0.00/480 [00:00<?, ?B/s]"
      ]
     },
     "metadata": {},
     "output_type": "display_data"
    },
    {
     "data": {
      "application/vnd.jupyter.widget-view+json": {
       "model_id": "1a51dd65264444ef99c9e210b2c94731",
       "version_major": 2,
       "version_minor": 0
      },
      "text/plain": [
       "Downloading:   0%|          | 0.00/14.8M [00:00<?, ?B/s]"
      ]
     },
     "metadata": {},
     "output_type": "display_data"
    },
    {
     "data": {
      "application/vnd.jupyter.widget-view+json": {
       "model_id": "bdb61da0e56744f5ba5d06e76f7dce49",
       "version_major": 2,
       "version_minor": 0
      },
      "text/plain": [
       "Downloading:   0%|          | 0.00/190 [00:00<?, ?B/s]"
      ]
     },
     "metadata": {},
     "output_type": "display_data"
    }
   ],
   "source": [
    "from sentence_transformers import SentenceTransformer, util\n",
    "import pandas as pd\n",
    "from nltk.tokenize import sent_tokenize\n",
    "model = SentenceTransformer('sentence-transformers/paraphrase-multilingual-MiniLM-L12-v2')\n"
   ]
  },
  {
   "cell_type": "code",
   "execution_count": 9,
   "metadata": {},
   "outputs": [
    {
     "name": "stdout",
     "output_type": "stream",
     "text": [
      "huggingface/tokenizers: The current process just got forked, after parallelism has already been used. Disabling parallelism to avoid deadlocks...\n",
      "To disable this warning, you can either:\n",
      "\t- Avoid using `tokenizers` before the fork if possible\n",
      "\t- Explicitly set the environment variable TOKENIZERS_PARALLELISM=(true | false)\n",
      "Untitled.ipynb clean_text.R\r\n"
     ]
    }
   ],
   "source": []
  },
  {
   "cell_type": "code",
   "execution_count": 3,
   "metadata": {},
   "outputs": [
    {
     "data": {
      "text/html": [
       "<div>\n",
       "<style scoped>\n",
       "    .dataframe tbody tr th:only-of-type {\n",
       "        vertical-align: middle;\n",
       "    }\n",
       "\n",
       "    .dataframe tbody tr th {\n",
       "        vertical-align: top;\n",
       "    }\n",
       "\n",
       "    .dataframe thead th {\n",
       "        text-align: right;\n",
       "    }\n",
       "</style>\n",
       "<table border=\"1\" class=\"dataframe\">\n",
       "  <thead>\n",
       "    <tr style=\"text-align: right;\">\n",
       "      <th></th>\n",
       "      <th>party</th>\n",
       "      <th>text</th>\n",
       "    </tr>\n",
       "  </thead>\n",
       "  <tbody>\n",
       "    <tr>\n",
       "      <th>0</th>\n",
       "      <td>fdp</td>\n",
       "      <td>NIE GAB ES MEHR ZU TUN. WAHLPROGRAMM DER FREIE...</td>\n",
       "    </tr>\n",
       "    <tr>\n",
       "      <th>1</th>\n",
       "      <td>gruene</td>\n",
       "      <td>Deutschland. Alles ist drin. Bundestagswahlpro...</td>\n",
       "    </tr>\n",
       "    <tr>\n",
       "      <th>2</th>\n",
       "      <td>koalition</td>\n",
       "      <td>MEHR FORTSCHRITT WAGEN BÜNDNIS FÜR FREIHEIT, G...</td>\n",
       "    </tr>\n",
       "    <tr>\n",
       "      <th>3</th>\n",
       "      <td>spd</td>\n",
       "      <td>Unser Zukunftsprogramm Das Zukunftsprogramm de...</td>\n",
       "    </tr>\n",
       "  </tbody>\n",
       "</table>\n",
       "</div>"
      ],
      "text/plain": [
       "       party                                               text\n",
       "0        fdp  NIE GAB ES MEHR ZU TUN. WAHLPROGRAMM DER FREIE...\n",
       "1     gruene  Deutschland. Alles ist drin. Bundestagswahlpro...\n",
       "2  koalition  MEHR FORTSCHRITT WAGEN BÜNDNIS FÜR FREIHEIT, G...\n",
       "3        spd  Unser Zukunftsprogramm Das Zukunftsprogramm de..."
      ]
     },
     "execution_count": 3,
     "metadata": {},
     "output_type": "execute_result"
    }
   ],
   "source": [
    "texts = pd.read_csv('../raw_data/texts.csv')\n",
    "texts"
   ]
  },
  {
   "cell_type": "code",
   "execution_count": 22,
   "metadata": {},
   "outputs": [],
   "source": [
    "fdp = [re.sub(\"((?<=[a-z])- (?=[a-z]))\",'',sentence) for sentence in sent_tokenize(texts.text[0])]\n",
    "spd = [re.sub(\"((?<=[a-z])- (?=[a-z]))\",'',sentence) for sentence in sent_tokenize(texts.text[1])]\n",
    "gruene = [re.sub(\"((?<=[a-z])- (?=[a-z]))\",'',sentence) for sentence in sent_tokenize(texts.text[3])]\n",
    "coal = [re.sub(\"((?<=[a-z])- (?=[a-z]))\",'',sentence) for sentence in sent_tokenize(texts.text[2])]"
   ]
  },
  {
   "cell_type": "code",
   "execution_count": 23,
   "metadata": {
    "scrolled": true
   },
   "outputs": [
    {
     "data": {
      "application/vnd.jupyter.widget-view+json": {
       "model_id": "d5e291568f69468ba50868bd36f531bb",
       "version_major": 2,
       "version_minor": 0
      },
      "text/plain": [
       "Batches:   0%|          | 0/71 [00:00<?, ?it/s]"
      ]
     },
     "metadata": {},
     "output_type": "display_data"
    },
    {
     "data": {
      "application/vnd.jupyter.widget-view+json": {
       "model_id": "12382150c1914db0a1a921542b663a5e",
       "version_major": 2,
       "version_minor": 0
      },
      "text/plain": [
       "Batches:   0%|          | 0/58 [00:00<?, ?it/s]"
      ]
     },
     "metadata": {},
     "output_type": "display_data"
    },
    {
     "data": {
      "application/vnd.jupyter.widget-view+json": {
       "model_id": "10ec437ba33c4f698b54ed5196d4e429",
       "version_major": 2,
       "version_minor": 0
      },
      "text/plain": [
       "Batches:   0%|          | 0/36 [00:00<?, ?it/s]"
      ]
     },
     "metadata": {},
     "output_type": "display_data"
    },
    {
     "data": {
      "application/vnd.jupyter.widget-view+json": {
       "model_id": "adf904fe07504e1fbe79f2f28c4a08fb",
       "version_major": 2,
       "version_minor": 0
      },
      "text/plain": [
       "Batches:   0%|          | 0/51 [00:00<?, ?it/s]"
      ]
     },
     "metadata": {},
     "output_type": "display_data"
    }
   ],
   "source": [
    "fdp_embed = model.encode(fdp, convert_to_tensor=True,show_progress_bar = True, batch_size = 64)\n",
    "spd_embed = model.encode(spd, convert_to_tensor=True,show_progress_bar = True, batch_size = 64)\n",
    "gruene_embed = model.encode(gruene, convert_to_tensor=True,show_progress_bar = True, batch_size = 64)\n",
    "koalition_embed = model.encode(coal, convert_to_tensor=True,show_progress_bar = True, batch_size = 64)\n",
    "\n",
    "\n",
    "\n",
    "#Output the pairs with their score\n"
   ]
  },
  {
   "cell_type": "code",
   "execution_count": 24,
   "metadata": {},
   "outputs": [],
   "source": [
    "fdp_sim = util.pytorch_cos_sim(fdp_embed, koalition_embed)\n",
    "fdp_sim = fdp_sim.numpy()\n",
    "fdp_sim_pd = pd.DataFrame(fdp_sim).reset_index().rename({'index':'index_party'}, axis = 'columns')\n",
    "\n",
    "gruene_sim = util.pytorch_cos_sim(gruene_embed, koalition_embed)\n",
    "gruene_sim = gruene_sim.numpy()\n",
    "gruene_sim_pd = pd.DataFrame(gruene_sim).reset_index().rename({'index':'index_party'}, axis = 'columns')\n",
    "\n",
    "spd_sim = util.pytorch_cos_sim(spd_embed, koalition_embed)\n",
    "spd_sim = spd_sim.numpy()\n",
    "spd_sim_pd = pd.DataFrame(spd_sim).reset_index().rename({'index':'index_party'}, axis = 'columns')"
   ]
  },
  {
   "cell_type": "code",
   "execution_count": 25,
   "metadata": {},
   "outputs": [],
   "source": [
    "fdp_data = pd.DataFrame(fdp,columns = ['sent']).reset_index().rename({'index':'index_party'}, axis = 'columns')\n",
    "gruene_data = pd.DataFrame(gruene,columns = ['sent']).reset_index().rename({'index':'index_party'}, axis = 'columns')\n",
    "spd_data = pd.DataFrame(spd,columns = ['sent']).reset_index().rename({'index':'index_party'}, axis = 'columns')\n",
    "coal_data = pd.DataFrame(coal,columns = ['sent']).reset_index().rename({'index':'index_party'}, axis = 'columns')"
   ]
  },
  {
   "cell_type": "code",
   "execution_count": 26,
   "metadata": {},
   "outputs": [],
   "source": [
    "fdp_sim_pd.to_csv('../results/matrix_fdp.csv')\n",
    "gruene_sim_pd.to_csv('../results/matrix_gruene.csv')\n",
    "spd_sim_pd.to_csv('../results/matrix_spd.csv')\n",
    "\n",
    "fdp_data.to_csv('../results/data_fdp.csv')\n",
    "gruene_data.to_csv('../results/data_gruene.csv')\n",
    "spd_data.to_csv('../results/data_spd.csv')\n",
    "coal_data.to_csv('../results/data_coal.csv')"
   ]
  }
 ],
 "metadata": {
  "kernelspec": {
   "display_name": "venv",
   "language": "python",
   "name": "venv"
  },
  "language_info": {
   "codemirror_mode": {
    "name": "ipython",
    "version": 3
   },
   "file_extension": ".py",
   "mimetype": "text/x-python",
   "name": "python",
   "nbconvert_exporter": "python",
   "pygments_lexer": "ipython3",
   "version": "3.8.2"
  }
 },
 "nbformat": 4,
 "nbformat_minor": 4
}

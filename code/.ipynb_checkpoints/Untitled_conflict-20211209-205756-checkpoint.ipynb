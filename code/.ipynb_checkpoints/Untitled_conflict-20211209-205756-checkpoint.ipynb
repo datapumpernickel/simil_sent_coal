{
 "cells": [
  {
   "cell_type": "code",
   "execution_count": null,
   "metadata": {},
   "outputs": [
    {
     "data": {
      "application/vnd.jupyter.widget-view+json": {
       "model_id": "a9b3227bdf9a4a88832939d1319b6e3a",
       "version_major": 2,
       "version_minor": 0
      },
      "text/plain": [
       "Downloading:   0%|          | 0.00/391 [00:00<?, ?B/s]"
      ]
     },
     "metadata": {},
     "output_type": "display_data"
    },
    {
     "data": {
      "application/vnd.jupyter.widget-view+json": {
       "model_id": "084a98a63cc141e49a6a584e94a2f46b",
       "version_major": 2,
       "version_minor": 0
      },
      "text/plain": [
       "Downloading:   0%|          | 0.00/1.10k [00:00<?, ?B/s]"
      ]
     },
     "metadata": {},
     "output_type": "display_data"
    },
    {
     "data": {
      "application/vnd.jupyter.widget-view+json": {
       "model_id": "7e71450400b545f68bba7765dbcab7d3",
       "version_major": 2,
       "version_minor": 0
      },
      "text/plain": [
       "Downloading:   0%|          | 0.00/7.88k [00:00<?, ?B/s]"
      ]
     },
     "metadata": {},
     "output_type": "display_data"
    },
    {
     "data": {
      "application/vnd.jupyter.widget-view+json": {
       "model_id": "3a201db8cc0b4d7f96f3c41df5e80a35",
       "version_major": 2,
       "version_minor": 0
      },
      "text/plain": [
       "Downloading:   0%|          | 0.00/541 [00:00<?, ?B/s]"
      ]
     },
     "metadata": {},
     "output_type": "display_data"
    },
    {
     "data": {
      "application/vnd.jupyter.widget-view+json": {
       "model_id": "5b8bb826fff141be9f09905d057738ac",
       "version_major": 2,
       "version_minor": 0
      },
      "text/plain": [
       "Downloading:   0%|          | 0.00/1.11G [00:00<?, ?B/s]"
      ]
     },
     "metadata": {},
     "output_type": "display_data"
    }
   ],
   "source": [
    "from sentence_transformers import SentenceTransformer, util\n",
    "import pandas as pd\n",
    "from nltk.tokenize import sent_tokenize\n",
    "model = SentenceTransformer('T-Systems-onsite/cross-en-de-roberta-sentence-transformer')\n"
   ]
  },
  {
   "cell_type": "code",
   "execution_count": 9,
   "metadata": {},
   "outputs": [
    {
     "name": "stdout",
     "output_type": "stream",
     "text": [
      "huggingface/tokenizers: The current process just got forked, after parallelism has already been used. Disabling parallelism to avoid deadlocks...\n",
      "To disable this warning, you can either:\n",
      "\t- Avoid using `tokenizers` before the fork if possible\n",
      "\t- Explicitly set the environment variable TOKENIZERS_PARALLELISM=(true | false)\n",
      "Untitled.ipynb clean_text.R\r\n"
     ]
    }
   ],
   "source": []
  },
  {
   "cell_type": "code",
   "execution_count": null,
   "metadata": {},
   "outputs": [],
   "source": [
    "texts = pd.read_csv('../raw_data/texts.csv')\n",
    "texts"
   ]
  },
  {
   "cell_type": "code",
   "execution_count": null,
   "metadata": {},
   "outputs": [],
   "source": [
    "koalition = texts.text[2]\n",
    "koalition = sent_tokenize(koalition)"
   ]
  },
  {
   "cell_type": "code",
   "execution_count": 245,
   "metadata": {},
   "outputs": [
    {
     "data": {
      "text/plain": [
       "range(0, 3236)"
      ]
     },
     "execution_count": 245,
     "metadata": {},
     "output_type": "execute_result"
    }
   ],
   "source": [
    "range(len(koalition))"
   ]
  },
  {
   "cell_type": "code",
   "execution_count": 254,
   "metadata": {},
   "outputs": [
    {
     "name": "stdout",
     "output_type": "stream",
     "text": [
      "0\n"
     ]
    },
    {
     "data": {
      "application/vnd.jupyter.widget-view+json": {
       "model_id": "c0bc320a80794d899b43d925ab044c3b",
       "version_major": 2,
       "version_minor": 0
      },
      "text/plain": [
       "Batches:   0%|          | 0/142 [00:00<?, ?it/s]"
      ]
     },
     "metadata": {},
     "output_type": "display_data"
    },
    {
     "name": "stdout",
     "output_type": "stream",
     "text": [
      "0\n"
     ]
    },
    {
     "data": {
      "application/vnd.jupyter.widget-view+json": {
       "model_id": "b05dbc3fcf2d408b8e14ecc260608064",
       "version_major": 2,
       "version_minor": 0
      },
      "text/plain": [
       "Batches:   0%|          | 0/1 [00:00<?, ?it/s]"
      ]
     },
     "metadata": {},
     "output_type": "display_data"
    },
    {
     "name": "stdout",
     "output_type": "stream",
     "text": [
      "1\n"
     ]
    },
    {
     "data": {
      "application/vnd.jupyter.widget-view+json": {
       "model_id": "8fb78f98e62b4082b8e0d469348025ae",
       "version_major": 2,
       "version_minor": 0
      },
      "text/plain": [
       "Batches:   0%|          | 0/1 [00:00<?, ?it/s]"
      ]
     },
     "metadata": {},
     "output_type": "display_data"
    },
    {
     "name": "stdout",
     "output_type": "stream",
     "text": [
      "2\n"
     ]
    },
    {
     "data": {
      "application/vnd.jupyter.widget-view+json": {
       "model_id": "ef280317b1b741e5a3497ff4cb3356fc",
       "version_major": 2,
       "version_minor": 0
      },
      "text/plain": [
       "Batches:   0%|          | 0/1 [00:00<?, ?it/s]"
      ]
     },
     "metadata": {},
     "output_type": "display_data"
    },
    {
     "name": "stdout",
     "output_type": "stream",
     "text": [
      "3\n"
     ]
    },
    {
     "data": {
      "application/vnd.jupyter.widget-view+json": {
       "model_id": "ce9b27a347aa49c0a3d9f0e85436ba36",
       "version_major": 2,
       "version_minor": 0
      },
      "text/plain": [
       "Batches:   0%|          | 0/1 [00:00<?, ?it/s]"
      ]
     },
     "metadata": {},
     "output_type": "display_data"
    },
    {
     "name": "stdout",
     "output_type": "stream",
     "text": [
      "4\n"
     ]
    },
    {
     "data": {
      "application/vnd.jupyter.widget-view+json": {
       "model_id": "8f05f4dbe9a7484198d538f32c0e9464",
       "version_major": 2,
       "version_minor": 0
      },
      "text/plain": [
       "Batches:   0%|          | 0/1 [00:00<?, ?it/s]"
      ]
     },
     "metadata": {},
     "output_type": "display_data"
    },
    {
     "name": "stdout",
     "output_type": "stream",
     "text": [
      "5\n"
     ]
    },
    {
     "data": {
      "application/vnd.jupyter.widget-view+json": {
       "model_id": "1f6a4a5b2dd64c7a9b9a82d68cab7567",
       "version_major": 2,
       "version_minor": 0
      },
      "text/plain": [
       "Batches:   0%|          | 0/1 [00:00<?, ?it/s]"
      ]
     },
     "metadata": {},
     "output_type": "display_data"
    },
    {
     "name": "stdout",
     "output_type": "stream",
     "text": [
      "6\n"
     ]
    },
    {
     "data": {
      "application/vnd.jupyter.widget-view+json": {
       "model_id": "22730b542d3d457caea05e22ecb68a68",
       "version_major": 2,
       "version_minor": 0
      },
      "text/plain": [
       "Batches:   0%|          | 0/1 [00:00<?, ?it/s]"
      ]
     },
     "metadata": {},
     "output_type": "display_data"
    },
    {
     "name": "stdout",
     "output_type": "stream",
     "text": [
      "7\n"
     ]
    },
    {
     "data": {
      "application/vnd.jupyter.widget-view+json": {
       "model_id": "98fa31bb383c4c6daa31a15e46ae255d",
       "version_major": 2,
       "version_minor": 0
      },
      "text/plain": [
       "Batches:   0%|          | 0/1 [00:00<?, ?it/s]"
      ]
     },
     "metadata": {},
     "output_type": "display_data"
    },
    {
     "name": "stdout",
     "output_type": "stream",
     "text": [
      "8\n"
     ]
    },
    {
     "data": {
      "application/vnd.jupyter.widget-view+json": {
       "model_id": "d80af1a678b24d5187a77538ebe022a4",
       "version_major": 2,
       "version_minor": 0
      },
      "text/plain": [
       "Batches:   0%|          | 0/1 [00:00<?, ?it/s]"
      ]
     },
     "metadata": {},
     "output_type": "display_data"
    },
    {
     "name": "stdout",
     "output_type": "stream",
     "text": [
      "9\n"
     ]
    },
    {
     "data": {
      "application/vnd.jupyter.widget-view+json": {
       "model_id": "289c610ec3f2405d8318f6237dfe73bb",
       "version_major": 2,
       "version_minor": 0
      },
      "text/plain": [
       "Batches:   0%|          | 0/1 [00:00<?, ?it/s]"
      ]
     },
     "metadata": {},
     "output_type": "display_data"
    },
    {
     "name": "stdout",
     "output_type": "stream",
     "text": [
      "10\n"
     ]
    },
    {
     "data": {
      "application/vnd.jupyter.widget-view+json": {
       "model_id": "e42c6479774e45b9908633b4034f1a2e",
       "version_major": 2,
       "version_minor": 0
      },
      "text/plain": [
       "Batches:   0%|          | 0/1 [00:00<?, ?it/s]"
      ]
     },
     "metadata": {},
     "output_type": "display_data"
    },
    {
     "name": "stdout",
     "output_type": "stream",
     "text": [
      "11\n"
     ]
    },
    {
     "data": {
      "application/vnd.jupyter.widget-view+json": {
       "model_id": "5439302247db41ed9564a36719e17ca4",
       "version_major": 2,
       "version_minor": 0
      },
      "text/plain": [
       "Batches:   0%|          | 0/1 [00:00<?, ?it/s]"
      ]
     },
     "metadata": {},
     "output_type": "display_data"
    },
    {
     "name": "stdout",
     "output_type": "stream",
     "text": [
      "12\n"
     ]
    },
    {
     "data": {
      "application/vnd.jupyter.widget-view+json": {
       "model_id": "f7a0b4bf98b342fa855164b2cc80bef0",
       "version_major": 2,
       "version_minor": 0
      },
      "text/plain": [
       "Batches:   0%|          | 0/1 [00:00<?, ?it/s]"
      ]
     },
     "metadata": {},
     "output_type": "display_data"
    },
    {
     "name": "stdout",
     "output_type": "stream",
     "text": [
      "13\n"
     ]
    },
    {
     "data": {
      "application/vnd.jupyter.widget-view+json": {
       "model_id": "218a820d24b2456ebaa0cd892f44e20d",
       "version_major": 2,
       "version_minor": 0
      },
      "text/plain": [
       "Batches:   0%|          | 0/1 [00:00<?, ?it/s]"
      ]
     },
     "metadata": {},
     "output_type": "display_data"
    },
    {
     "name": "stdout",
     "output_type": "stream",
     "text": [
      "14\n"
     ]
    },
    {
     "data": {
      "application/vnd.jupyter.widget-view+json": {
       "model_id": "13bd246c575a464d81bc79c16ef1e3bc",
       "version_major": 2,
       "version_minor": 0
      },
      "text/plain": [
       "Batches:   0%|          | 0/1 [00:00<?, ?it/s]"
      ]
     },
     "metadata": {},
     "output_type": "display_data"
    },
    {
     "name": "stdout",
     "output_type": "stream",
     "text": [
      "15\n"
     ]
    },
    {
     "data": {
      "application/vnd.jupyter.widget-view+json": {
       "model_id": "48d2868a7d054119aa2f59ee25ccd5f0",
       "version_major": 2,
       "version_minor": 0
      },
      "text/plain": [
       "Batches:   0%|          | 0/1 [00:00<?, ?it/s]"
      ]
     },
     "metadata": {},
     "output_type": "display_data"
    },
    {
     "name": "stdout",
     "output_type": "stream",
     "text": [
      "16\n"
     ]
    },
    {
     "data": {
      "application/vnd.jupyter.widget-view+json": {
       "model_id": "9a02f4581853490dace3920067fa7aef",
       "version_major": 2,
       "version_minor": 0
      },
      "text/plain": [
       "Batches:   0%|          | 0/1 [00:00<?, ?it/s]"
      ]
     },
     "metadata": {},
     "output_type": "display_data"
    },
    {
     "name": "stdout",
     "output_type": "stream",
     "text": [
      "17\n"
     ]
    },
    {
     "data": {
      "application/vnd.jupyter.widget-view+json": {
       "model_id": "b19a2e9a13e84b15b9b82e3477cd707f",
       "version_major": 2,
       "version_minor": 0
      },
      "text/plain": [
       "Batches:   0%|          | 0/1 [00:00<?, ?it/s]"
      ]
     },
     "metadata": {},
     "output_type": "display_data"
    },
    {
     "name": "stdout",
     "output_type": "stream",
     "text": [
      "18\n"
     ]
    },
    {
     "data": {
      "application/vnd.jupyter.widget-view+json": {
       "model_id": "a88030de7c83419d8dd6d9fff790877f",
       "version_major": 2,
       "version_minor": 0
      },
      "text/plain": [
       "Batches:   0%|          | 0/1 [00:00<?, ?it/s]"
      ]
     },
     "metadata": {},
     "output_type": "display_data"
    },
    {
     "name": "stdout",
     "output_type": "stream",
     "text": [
      "19\n"
     ]
    },
    {
     "data": {
      "application/vnd.jupyter.widget-view+json": {
       "model_id": "36d09bd3eaf44df98544ed8ff97ca572",
       "version_major": 2,
       "version_minor": 0
      },
      "text/plain": [
       "Batches:   0%|          | 0/1 [00:00<?, ?it/s]"
      ]
     },
     "metadata": {},
     "output_type": "display_data"
    },
    {
     "name": "stdout",
     "output_type": "stream",
     "text": [
      "20\n"
     ]
    },
    {
     "data": {
      "application/vnd.jupyter.widget-view+json": {
       "model_id": "be694b0ccf204e53b811d00fb34bcd38",
       "version_major": 2,
       "version_minor": 0
      },
      "text/plain": [
       "Batches:   0%|          | 0/1 [00:00<?, ?it/s]"
      ]
     },
     "metadata": {},
     "output_type": "display_data"
    },
    {
     "name": "stdout",
     "output_type": "stream",
     "text": [
      "21\n"
     ]
    },
    {
     "data": {
      "application/vnd.jupyter.widget-view+json": {
       "model_id": "1fe5aa4481a0410584cd773007534a08",
       "version_major": 2,
       "version_minor": 0
      },
      "text/plain": [
       "Batches:   0%|          | 0/1 [00:00<?, ?it/s]"
      ]
     },
     "metadata": {},
     "output_type": "display_data"
    },
    {
     "ename": "KeyboardInterrupt",
     "evalue": "",
     "output_type": "error",
     "traceback": [
      "\u001b[0;31m---------------------------------------------------------------------------\u001b[0m",
      "\u001b[0;31mKeyboardInterrupt\u001b[0m                         Traceback (most recent call last)",
      "\u001b[0;32m/var/folders/4t/1q0vm87x5pn52h0jb7zppmv80000gn/T/ipykernel_92367/163905729.py\u001b[0m in \u001b[0;36m<module>\u001b[0;34m\u001b[0m\n\u001b[1;32m     20\u001b[0m                           \u001b[0;34m'sentence_coal'\u001b[0m\u001b[0;34m:\u001b[0m \u001b[0msent\u001b[0m\u001b[0;34m,\u001b[0m\u001b[0;34m\u001b[0m\u001b[0;34m\u001b[0m\u001b[0m\n\u001b[1;32m     21\u001b[0m                           'party': party})\n\u001b[0;32m---> 22\u001b[0;31m             \u001b[0mdf\u001b[0m \u001b[0;34m=\u001b[0m \u001b[0mpd\u001b[0m\u001b[0;34m.\u001b[0m\u001b[0mDataFrame\u001b[0m\u001b[0;34m(\u001b[0m\u001b[0mpairs\u001b[0m\u001b[0;34m)\u001b[0m\u001b[0;34m.\u001b[0m\u001b[0mnlargest\u001b[0m\u001b[0;34m(\u001b[0m\u001b[0;36m2\u001b[0m\u001b[0;34m,\u001b[0m\u001b[0;34m'score'\u001b[0m\u001b[0;34m)\u001b[0m\u001b[0;34m\u001b[0m\u001b[0;34m\u001b[0m\u001b[0m\n\u001b[0m\u001b[1;32m     23\u001b[0m         \u001b[0mdata\u001b[0m \u001b[0;34m=\u001b[0m \u001b[0mpd\u001b[0m\u001b[0;34m.\u001b[0m\u001b[0mconcat\u001b[0m\u001b[0;34m(\u001b[0m\u001b[0;34m[\u001b[0m\u001b[0mdf\u001b[0m\u001b[0;34m,\u001b[0m\u001b[0mdata\u001b[0m\u001b[0;34m]\u001b[0m\u001b[0;34m)\u001b[0m\u001b[0;34m\u001b[0m\u001b[0;34m\u001b[0m\u001b[0m\n",
      "\u001b[0;32m~/Desktop/Studium/SWP/Projekte/koalition/venv/lib/python3.8/site-packages/pandas/core/frame.py\u001b[0m in \u001b[0;36m__init__\u001b[0;34m(self, data, index, columns, dtype, copy)\u001b[0m\n\u001b[1;32m    692\u001b[0m                         \u001b[0;31m# ndarray], Index, Series], Sequence[Any]]\"\u001b[0m\u001b[0;34m\u001b[0m\u001b[0;34m\u001b[0m\u001b[0;34m\u001b[0m\u001b[0m\n\u001b[1;32m    693\u001b[0m                         \u001b[0mcolumns\u001b[0m \u001b[0;34m=\u001b[0m \u001b[0mensure_index\u001b[0m\u001b[0;34m(\u001b[0m\u001b[0mcolumns\u001b[0m\u001b[0;34m)\u001b[0m  \u001b[0;31m# type: ignore[arg-type]\u001b[0m\u001b[0;34m\u001b[0m\u001b[0;34m\u001b[0m\u001b[0m\n\u001b[0;32m--> 694\u001b[0;31m                     arrays, columns, index = nested_data_to_arrays(\n\u001b[0m\u001b[1;32m    695\u001b[0m                         \u001b[0;31m# error: Argument 3 to \"nested_data_to_arrays\" has incompatible\u001b[0m\u001b[0;34m\u001b[0m\u001b[0;34m\u001b[0m\u001b[0;34m\u001b[0m\u001b[0m\n\u001b[1;32m    696\u001b[0m                         \u001b[0;31m# type \"Optional[Collection[Any]]\"; expected \"Optional[Index]\"\u001b[0m\u001b[0;34m\u001b[0m\u001b[0;34m\u001b[0m\u001b[0;34m\u001b[0m\u001b[0m\n",
      "\u001b[0;32m~/Desktop/Studium/SWP/Projekte/koalition/venv/lib/python3.8/site-packages/pandas/core/internals/construction.py\u001b[0m in \u001b[0;36mnested_data_to_arrays\u001b[0;34m(data, columns, index, dtype)\u001b[0m\n\u001b[1;32m    481\u001b[0m         \u001b[0mcolumns\u001b[0m \u001b[0;34m=\u001b[0m \u001b[0mensure_index\u001b[0m\u001b[0;34m(\u001b[0m\u001b[0mdata\u001b[0m\u001b[0;34m[\u001b[0m\u001b[0;36m0\u001b[0m\u001b[0;34m]\u001b[0m\u001b[0;34m.\u001b[0m\u001b[0m_fields\u001b[0m\u001b[0;34m)\u001b[0m\u001b[0;34m\u001b[0m\u001b[0;34m\u001b[0m\u001b[0m\n\u001b[1;32m    482\u001b[0m \u001b[0;34m\u001b[0m\u001b[0m\n\u001b[0;32m--> 483\u001b[0;31m     \u001b[0marrays\u001b[0m\u001b[0;34m,\u001b[0m \u001b[0mcolumns\u001b[0m \u001b[0;34m=\u001b[0m \u001b[0mto_arrays\u001b[0m\u001b[0;34m(\u001b[0m\u001b[0mdata\u001b[0m\u001b[0;34m,\u001b[0m \u001b[0mcolumns\u001b[0m\u001b[0;34m,\u001b[0m \u001b[0mdtype\u001b[0m\u001b[0;34m=\u001b[0m\u001b[0mdtype\u001b[0m\u001b[0;34m)\u001b[0m\u001b[0;34m\u001b[0m\u001b[0;34m\u001b[0m\u001b[0m\n\u001b[0m\u001b[1;32m    484\u001b[0m     \u001b[0mcolumns\u001b[0m \u001b[0;34m=\u001b[0m \u001b[0mensure_index\u001b[0m\u001b[0;34m(\u001b[0m\u001b[0mcolumns\u001b[0m\u001b[0;34m)\u001b[0m\u001b[0;34m\u001b[0m\u001b[0;34m\u001b[0m\u001b[0m\n\u001b[1;32m    485\u001b[0m \u001b[0;34m\u001b[0m\u001b[0m\n",
      "\u001b[0;32m~/Desktop/Studium/SWP/Projekte/koalition/venv/lib/python3.8/site-packages/pandas/core/internals/construction.py\u001b[0m in \u001b[0;36mto_arrays\u001b[0;34m(data, columns, dtype)\u001b[0m\n\u001b[1;32m    797\u001b[0m         \u001b[0marr\u001b[0m \u001b[0;34m=\u001b[0m \u001b[0m_list_to_arrays\u001b[0m\u001b[0;34m(\u001b[0m\u001b[0mdata\u001b[0m\u001b[0;34m)\u001b[0m\u001b[0;34m\u001b[0m\u001b[0;34m\u001b[0m\u001b[0m\n\u001b[1;32m    798\u001b[0m     \u001b[0;32melif\u001b[0m \u001b[0misinstance\u001b[0m\u001b[0;34m(\u001b[0m\u001b[0mdata\u001b[0m\u001b[0;34m[\u001b[0m\u001b[0;36m0\u001b[0m\u001b[0;34m]\u001b[0m\u001b[0;34m,\u001b[0m \u001b[0mabc\u001b[0m\u001b[0;34m.\u001b[0m\u001b[0mMapping\u001b[0m\u001b[0;34m)\u001b[0m\u001b[0;34m:\u001b[0m\u001b[0;34m\u001b[0m\u001b[0;34m\u001b[0m\u001b[0m\n\u001b[0;32m--> 799\u001b[0;31m         \u001b[0marr\u001b[0m\u001b[0;34m,\u001b[0m \u001b[0mcolumns\u001b[0m \u001b[0;34m=\u001b[0m \u001b[0m_list_of_dict_to_arrays\u001b[0m\u001b[0;34m(\u001b[0m\u001b[0mdata\u001b[0m\u001b[0;34m,\u001b[0m \u001b[0mcolumns\u001b[0m\u001b[0;34m)\u001b[0m\u001b[0;34m\u001b[0m\u001b[0;34m\u001b[0m\u001b[0m\n\u001b[0m\u001b[1;32m    800\u001b[0m     \u001b[0;32melif\u001b[0m \u001b[0misinstance\u001b[0m\u001b[0;34m(\u001b[0m\u001b[0mdata\u001b[0m\u001b[0;34m[\u001b[0m\u001b[0;36m0\u001b[0m\u001b[0;34m]\u001b[0m\u001b[0;34m,\u001b[0m \u001b[0mABCSeries\u001b[0m\u001b[0;34m)\u001b[0m\u001b[0;34m:\u001b[0m\u001b[0;34m\u001b[0m\u001b[0;34m\u001b[0m\u001b[0m\n\u001b[1;32m    801\u001b[0m         \u001b[0marr\u001b[0m\u001b[0;34m,\u001b[0m \u001b[0mcolumns\u001b[0m \u001b[0;34m=\u001b[0m \u001b[0m_list_of_series_to_arrays\u001b[0m\u001b[0;34m(\u001b[0m\u001b[0mdata\u001b[0m\u001b[0;34m,\u001b[0m \u001b[0mcolumns\u001b[0m\u001b[0;34m)\u001b[0m\u001b[0;34m\u001b[0m\u001b[0;34m\u001b[0m\u001b[0m\n",
      "\u001b[0;32m~/Desktop/Studium/SWP/Projekte/koalition/venv/lib/python3.8/site-packages/pandas/core/internals/construction.py\u001b[0m in \u001b[0;36m_list_of_dict_to_arrays\u001b[0;34m(data, columns)\u001b[0m\n\u001b[1;32m    882\u001b[0m         \u001b[0mgen\u001b[0m \u001b[0;34m=\u001b[0m \u001b[0;34m(\u001b[0m\u001b[0mlist\u001b[0m\u001b[0;34m(\u001b[0m\u001b[0mx\u001b[0m\u001b[0;34m.\u001b[0m\u001b[0mkeys\u001b[0m\u001b[0;34m(\u001b[0m\u001b[0;34m)\u001b[0m\u001b[0;34m)\u001b[0m \u001b[0;32mfor\u001b[0m \u001b[0mx\u001b[0m \u001b[0;32min\u001b[0m \u001b[0mdata\u001b[0m\u001b[0;34m)\u001b[0m\u001b[0;34m\u001b[0m\u001b[0;34m\u001b[0m\u001b[0m\n\u001b[1;32m    883\u001b[0m         \u001b[0msort\u001b[0m \u001b[0;34m=\u001b[0m \u001b[0;32mnot\u001b[0m \u001b[0many\u001b[0m\u001b[0;34m(\u001b[0m\u001b[0misinstance\u001b[0m\u001b[0;34m(\u001b[0m\u001b[0md\u001b[0m\u001b[0;34m,\u001b[0m \u001b[0mdict\u001b[0m\u001b[0;34m)\u001b[0m \u001b[0;32mfor\u001b[0m \u001b[0md\u001b[0m \u001b[0;32min\u001b[0m \u001b[0mdata\u001b[0m\u001b[0;34m)\u001b[0m\u001b[0;34m\u001b[0m\u001b[0;34m\u001b[0m\u001b[0m\n\u001b[0;32m--> 884\u001b[0;31m         \u001b[0mpre_cols\u001b[0m \u001b[0;34m=\u001b[0m \u001b[0mlib\u001b[0m\u001b[0;34m.\u001b[0m\u001b[0mfast_unique_multiple_list_gen\u001b[0m\u001b[0;34m(\u001b[0m\u001b[0mgen\u001b[0m\u001b[0;34m,\u001b[0m \u001b[0msort\u001b[0m\u001b[0;34m=\u001b[0m\u001b[0msort\u001b[0m\u001b[0;34m)\u001b[0m\u001b[0;34m\u001b[0m\u001b[0;34m\u001b[0m\u001b[0m\n\u001b[0m\u001b[1;32m    885\u001b[0m         \u001b[0mcolumns\u001b[0m \u001b[0;34m=\u001b[0m \u001b[0mensure_index\u001b[0m\u001b[0;34m(\u001b[0m\u001b[0mpre_cols\u001b[0m\u001b[0;34m)\u001b[0m\u001b[0;34m\u001b[0m\u001b[0;34m\u001b[0m\u001b[0m\n\u001b[1;32m    886\u001b[0m \u001b[0;34m\u001b[0m\u001b[0m\n",
      "\u001b[0;32m~/Desktop/Studium/SWP/Projekte/koalition/venv/lib/python3.8/site-packages/pandas/_libs/lib.pyx\u001b[0m in \u001b[0;36mpandas._libs.lib.fast_unique_multiple_list_gen\u001b[0;34m()\u001b[0m\n",
      "\u001b[0;32m~/Desktop/Studium/SWP/Projekte/koalition/venv/lib/python3.8/site-packages/pandas/core/internals/construction.py\u001b[0m in \u001b[0;36m<genexpr>\u001b[0;34m(.0)\u001b[0m\n\u001b[1;32m    880\u001b[0m     \"\"\"\n\u001b[1;32m    881\u001b[0m     \u001b[0;32mif\u001b[0m \u001b[0mcolumns\u001b[0m \u001b[0;32mis\u001b[0m \u001b[0;32mNone\u001b[0m\u001b[0;34m:\u001b[0m\u001b[0;34m\u001b[0m\u001b[0;34m\u001b[0m\u001b[0m\n\u001b[0;32m--> 882\u001b[0;31m         \u001b[0mgen\u001b[0m \u001b[0;34m=\u001b[0m \u001b[0;34m(\u001b[0m\u001b[0mlist\u001b[0m\u001b[0;34m(\u001b[0m\u001b[0mx\u001b[0m\u001b[0;34m.\u001b[0m\u001b[0mkeys\u001b[0m\u001b[0;34m(\u001b[0m\u001b[0;34m)\u001b[0m\u001b[0;34m)\u001b[0m \u001b[0;32mfor\u001b[0m \u001b[0mx\u001b[0m \u001b[0;32min\u001b[0m \u001b[0mdata\u001b[0m\u001b[0;34m)\u001b[0m\u001b[0;34m\u001b[0m\u001b[0;34m\u001b[0m\u001b[0m\n\u001b[0m\u001b[1;32m    883\u001b[0m         \u001b[0msort\u001b[0m \u001b[0;34m=\u001b[0m \u001b[0;32mnot\u001b[0m \u001b[0many\u001b[0m\u001b[0;34m(\u001b[0m\u001b[0misinstance\u001b[0m\u001b[0;34m(\u001b[0m\u001b[0md\u001b[0m\u001b[0;34m,\u001b[0m \u001b[0mdict\u001b[0m\u001b[0;34m)\u001b[0m \u001b[0;32mfor\u001b[0m \u001b[0md\u001b[0m \u001b[0;32min\u001b[0m \u001b[0mdata\u001b[0m\u001b[0;34m)\u001b[0m\u001b[0;34m\u001b[0m\u001b[0;34m\u001b[0m\u001b[0m\n\u001b[1;32m    884\u001b[0m         \u001b[0mpre_cols\u001b[0m \u001b[0;34m=\u001b[0m \u001b[0mlib\u001b[0m\u001b[0;34m.\u001b[0m\u001b[0mfast_unique_multiple_list_gen\u001b[0m\u001b[0;34m(\u001b[0m\u001b[0mgen\u001b[0m\u001b[0;34m,\u001b[0m \u001b[0msort\u001b[0m\u001b[0;34m=\u001b[0m\u001b[0msort\u001b[0m\u001b[0;34m)\u001b[0m\u001b[0;34m\u001b[0m\u001b[0;34m\u001b[0m\u001b[0m\n",
      "\u001b[0;31mKeyboardInterrupt\u001b[0m: "
     ]
    }
   ],
   "source": [
    "data = pd.DataFrame()\n",
    "for party in [0,1,3]:\n",
    "    print(party)\n",
    "    sentences1 = sent_tokenize(texts.text[party])\n",
    "    embeddings1 = model.encode(sentences1, convert_to_tensor=True,show_progress_bar = True)\n",
    "\n",
    "    for sent in range(len(koalition)):\n",
    "        print(sent)\n",
    "        embeddings2 = model.encode(koalition[sent], convert_to_tensor=True,show_progress_bar = True)\n",
    "\n",
    "        #Compute cosine-similarits\n",
    "        cosine_scores = util.pytorch_cos_sim(embeddings1, embeddings2)\n",
    "        #Output the pairs with their score\n",
    "\n",
    "        pairs = []\n",
    "        for i in range(len(sentences1)):\n",
    "            pairs.append({'index': [i], \n",
    "                          'score': float(cosine_scores[i][0]), \n",
    "                          'sentence': sentences1[i], \n",
    "                          'sentence_coal': sent,\n",
    "                          'party': party})\n",
    "            df = pd.DataFrame(pairs).nlargest(2,'score')\n",
    "        data = pd.concat([df,data])"
   ]
  },
  {
   "cell_type": "code",
   "execution_count": 239,
   "metadata": {},
   "outputs": [
    {
     "data": {
      "text/plain": [
       "range(0, 3236)"
      ]
     },
     "execution_count": 239,
     "metadata": {},
     "output_type": "execute_result"
    }
   ],
   "source": [
    "range(len(koalition))"
   ]
  },
  {
   "cell_type": "code",
   "execution_count": 262,
   "metadata": {},
   "outputs": [
    {
     "data": {
      "text/html": [
       "<div>\n",
       "<style scoped>\n",
       "    .dataframe tbody tr th:only-of-type {\n",
       "        vertical-align: middle;\n",
       "    }\n",
       "\n",
       "    .dataframe tbody tr th {\n",
       "        vertical-align: top;\n",
       "    }\n",
       "\n",
       "    .dataframe thead th {\n",
       "        text-align: right;\n",
       "    }\n",
       "</style>\n",
       "<table border=\"1\" class=\"dataframe\">\n",
       "  <thead>\n",
       "    <tr style=\"text-align: right;\">\n",
       "      <th></th>\n",
       "      <th>index</th>\n",
       "      <th>score</th>\n",
       "      <th>sentence</th>\n",
       "      <th>sentence_coal</th>\n",
       "      <th>party</th>\n",
       "    </tr>\n",
       "  </thead>\n",
       "  <tbody>\n",
       "    <tr>\n",
       "      <th>3026</th>\n",
       "      <td>[3026]</td>\n",
       "      <td>0.599247</td>\n",
       "      <td>Nur so kön- nen wir die digitale Transformatio...</td>\n",
       "      <td>20</td>\n",
       "      <td>0</td>\n",
       "    </tr>\n",
       "    <tr>\n",
       "      <th>3056</th>\n",
       "      <td>[3056]</td>\n",
       "      <td>0.513064</td>\n",
       "      <td>So schaffen wir ein Europa, das digital unabhä...</td>\n",
       "      <td>20</td>\n",
       "      <td>0</td>\n",
       "    </tr>\n",
       "    <tr>\n",
       "      <th>3769</th>\n",
       "      <td>[3769]</td>\n",
       "      <td>0.504595</td>\n",
       "      <td>Aus Sicht der Freien Demokraten ist die Einbez...</td>\n",
       "      <td>19</td>\n",
       "      <td>0</td>\n",
       "    </tr>\n",
       "    <tr>\n",
       "      <th>3569</th>\n",
       "      <td>[3569]</td>\n",
       "      <td>0.477271</td>\n",
       "      <td>Es ist das vornehmste Recht in einer Demokratie.</td>\n",
       "      <td>19</td>\n",
       "      <td>0</td>\n",
       "    </tr>\n",
       "    <tr>\n",
       "      <th>2641</th>\n",
       "      <td>[2641]</td>\n",
       "      <td>0.471362</td>\n",
       "      <td>Ein Alleingang der EU könnte dagegen auch in D...</td>\n",
       "      <td>18</td>\n",
       "      <td>0</td>\n",
       "    </tr>\n",
       "    <tr>\n",
       "      <th>2462</th>\n",
       "      <td>[2462]</td>\n",
       "      <td>0.460732</td>\n",
       "      <td>Wir wollen den Wettbewerb national und interna...</td>\n",
       "      <td>18</td>\n",
       "      <td>0</td>\n",
       "    </tr>\n",
       "    <tr>\n",
       "      <th>3832</th>\n",
       "      <td>[3832]</td>\n",
       "      <td>0.557574</td>\n",
       "      <td>Die Folgen des Klima- wandels und von Überfisc...</td>\n",
       "      <td>17</td>\n",
       "      <td>0</td>\n",
       "    </tr>\n",
       "    <tr>\n",
       "      <th>3746</th>\n",
       "      <td>[3746]</td>\n",
       "      <td>0.527332</td>\n",
       "      <td>Deutschland und Europa haben sich zur Klimaneu...</td>\n",
       "      <td>17</td>\n",
       "      <td>0</td>\n",
       "    </tr>\n",
       "    <tr>\n",
       "      <th>4098</th>\n",
       "      <td>[4098]</td>\n",
       "      <td>0.476166</td>\n",
       "      <td>Weltweit wer- den Krisen und Konflikte in den ...</td>\n",
       "      <td>16</td>\n",
       "      <td>0</td>\n",
       "    </tr>\n",
       "    <tr>\n",
       "      <th>2338</th>\n",
       "      <td>[2338]</td>\n",
       "      <td>0.393974</td>\n",
       "      <td>Wir haben uns in der Krise an die Basistechnol...</td>\n",
       "      <td>16</td>\n",
       "      <td>0</td>\n",
       "    </tr>\n",
       "  </tbody>\n",
       "</table>\n",
       "</div>"
      ],
      "text/plain": [
       "       index     score                                           sentence  \\\n",
       "3026  [3026]  0.599247  Nur so kön- nen wir die digitale Transformatio...   \n",
       "3056  [3056]  0.513064  So schaffen wir ein Europa, das digital unabhä...   \n",
       "3769  [3769]  0.504595  Aus Sicht der Freien Demokraten ist die Einbez...   \n",
       "3569  [3569]  0.477271   Es ist das vornehmste Recht in einer Demokratie.   \n",
       "2641  [2641]  0.471362  Ein Alleingang der EU könnte dagegen auch in D...   \n",
       "2462  [2462]  0.460732  Wir wollen den Wettbewerb national und interna...   \n",
       "3832  [3832]  0.557574  Die Folgen des Klima- wandels und von Überfisc...   \n",
       "3746  [3746]  0.527332  Deutschland und Europa haben sich zur Klimaneu...   \n",
       "4098  [4098]  0.476166  Weltweit wer- den Krisen und Konflikte in den ...   \n",
       "2338  [2338]  0.393974  Wir haben uns in der Krise an die Basistechnol...   \n",
       "\n",
       "      sentence_coal  party  \n",
       "3026             20      0  \n",
       "3056             20      0  \n",
       "3769             19      0  \n",
       "3569             19      0  \n",
       "2641             18      0  \n",
       "2462             18      0  \n",
       "3832             17      0  \n",
       "3746             17      0  \n",
       "4098             16      0  \n",
       "2338             16      0  "
      ]
     },
     "execution_count": 262,
     "metadata": {},
     "output_type": "execute_result"
    }
   ],
   "source": [
    "data.head(10)"
   ]
  },
  {
   "cell_type": "code",
   "execution_count": 271,
   "metadata": {},
   "outputs": [
    {
     "data": {
      "text/plain": [
       "4523"
      ]
     },
     "execution_count": 271,
     "metadata": {},
     "output_type": "execute_result"
    }
   ],
   "source": [
    "len(sent_tokenize(texts.text[0]))"
   ]
  },
  {
   "cell_type": "code",
   "execution_count": 295,
   "metadata": {},
   "outputs": [
    {
     "data": {
      "application/vnd.jupyter.widget-view+json": {
       "model_id": "3f28f49361d4424f9c412d37f606832d",
       "version_major": 2,
       "version_minor": 0
      },
      "text/plain": [
       "Batches:   0%|          | 0/71 [00:00<?, ?it/s]"
      ]
     },
     "metadata": {},
     "output_type": "display_data"
    },
    {
     "data": {
      "application/vnd.jupyter.widget-view+json": {
       "model_id": "3d6cc20ebc1949aaa328db852692b514",
       "version_major": 2,
       "version_minor": 0
      },
      "text/plain": [
       "Batches:   0%|          | 0/58 [00:00<?, ?it/s]"
      ]
     },
     "metadata": {},
     "output_type": "display_data"
    },
    {
     "data": {
      "application/vnd.jupyter.widget-view+json": {
       "model_id": "190dbdd7d17f4757833b8d5d59cc076d",
       "version_major": 2,
       "version_minor": 0
      },
      "text/plain": [
       "Batches:   0%|          | 0/36 [00:00<?, ?it/s]"
      ]
     },
     "metadata": {},
     "output_type": "display_data"
    },
    {
     "data": {
      "application/vnd.jupyter.widget-view+json": {
       "model_id": "0fd88c267ef440a2895b246f63684bf9",
       "version_major": 2,
       "version_minor": 0
      },
      "text/plain": [
       "Batches:   0%|          | 0/51 [00:00<?, ?it/s]"
      ]
     },
     "metadata": {},
     "output_type": "display_data"
    }
   ],
   "source": [
    "fdp_embed = model.encode(sent_tokenize(texts.text[0]), convert_to_tensor=True,show_progress_bar = True, batch_size = 64)\n",
    "spd_embed = model.encode(sent_tokenize(texts.text[1]), convert_to_tensor=True,show_progress_bar = True, batch_size = 64)\n",
    "gruene_embed = model.encode(sent_tokenize(texts.text[3]), convert_to_tensor=True,show_progress_bar = True, batch_size = 64)\n",
    "koalition_embed = model.encode(sent_tokenize(texts.text[2]), convert_to_tensor=True,show_progress_bar = True, batch_size = 64)\n",
    "\n",
    "fdp_sim = util.pytorch_cos_sim(torch.mean(fdp_embed,axis = 0), torch.mean(koalition_embed,axis = 0))\n",
    "gruene_sim = util.pytorch_cos_sim(torch.mean(spd_embed,axis = 0), torch.mean(koalition_embed,axis = 0))\n",
    "spd_sim = util.pytorch_cos_sim(torch.mean(gruene_embed,axis = 0), torch.mean(koalition_embed,axis = 0))\n",
    "\n",
    "fdp_sim_all = util.pytorch_cos_sim(fdp_embed, koalition_embed)\n",
    "gruene_sim_all = util.pytorch_cos_sim(spd_embed,koalition_embed)\n",
    "spd_sim_all = util.pytorch_cos_sim(gruene_embed,koalition_embed)\n",
    "\n",
    "#Output the pairs with their score\n"
   ]
  },
  {
   "cell_type": "code",
   "execution_count": 233,
   "metadata": {},
   "outputs": [
    {
     "name": "stdout",
     "output_type": "stream",
     "text": [
      "tensor([[0.8164]])\n",
      "tensor([[0.8826]])\n",
      "tensor([[0.4912]])\n"
     ]
    }
   ],
   "source": [
    "print(fdp_sim)\n",
    "print(gruene_sim)\n",
    "print(spd_sim)"
   ]
  },
  {
   "cell_type": "code",
   "execution_count": 290,
   "metadata": {},
   "outputs": [],
   "source": [
    "fdp_sim = util.pytorch_cos_sim(fdp_embed, koalition_embed)\n",
    "fdp_sim = fdp_sim.numpy()\n",
    "fdp_sim_pd = pd.DataFrame(fdp_sim)\n",
    "\n",
    "gruene_sim = util.pytorch_cos_sim(gruene_embed, koalition_embed)\n",
    "gruene_sim = gruene_sim.numpy()\n",
    "gruene_sim_pd = pd.DataFrame(gruene_sim)\n",
    "\n",
    "spd_sim = util.pytorch_cos_sim(spd_embed, koalition_embed)\n",
    "spd_sim = spd_sim.numpy()\n",
    "spd_sim_pd = pd.DataFrame(spd_sim)"
   ]
  },
  {
   "cell_type": "code",
   "execution_count": 291,
   "metadata": {},
   "outputs": [
    {
     "data": {
      "text/html": [
       "<div>\n",
       "<style scoped>\n",
       "    .dataframe tbody tr th:only-of-type {\n",
       "        vertical-align: middle;\n",
       "    }\n",
       "\n",
       "    .dataframe tbody tr th {\n",
       "        vertical-align: top;\n",
       "    }\n",
       "\n",
       "    .dataframe thead th {\n",
       "        text-align: right;\n",
       "    }\n",
       "</style>\n",
       "<table border=\"1\" class=\"dataframe\">\n",
       "  <thead>\n",
       "    <tr style=\"text-align: right;\">\n",
       "      <th></th>\n",
       "      <th>0</th>\n",
       "      <th>1</th>\n",
       "      <th>2</th>\n",
       "      <th>3</th>\n",
       "      <th>4</th>\n",
       "      <th>5</th>\n",
       "      <th>6</th>\n",
       "      <th>7</th>\n",
       "      <th>8</th>\n",
       "      <th>9</th>\n",
       "      <th>...</th>\n",
       "      <th>3226</th>\n",
       "      <th>3227</th>\n",
       "      <th>3228</th>\n",
       "      <th>3229</th>\n",
       "      <th>3230</th>\n",
       "      <th>3231</th>\n",
       "      <th>3232</th>\n",
       "      <th>3233</th>\n",
       "      <th>3234</th>\n",
       "      <th>3235</th>\n",
       "    </tr>\n",
       "  </thead>\n",
       "  <tbody>\n",
       "    <tr>\n",
       "      <th>0</th>\n",
       "      <td>0.052770</td>\n",
       "      <td>0.315462</td>\n",
       "      <td>0.128707</td>\n",
       "      <td>0.254342</td>\n",
       "      <td>0.159552</td>\n",
       "      <td>0.113321</td>\n",
       "      <td>0.150345</td>\n",
       "      <td>0.370088</td>\n",
       "      <td>0.189452</td>\n",
       "      <td>0.108036</td>\n",
       "      <td>...</td>\n",
       "      <td>0.013996</td>\n",
       "      <td>0.250126</td>\n",
       "      <td>0.145722</td>\n",
       "      <td>0.154900</td>\n",
       "      <td>0.094754</td>\n",
       "      <td>0.359272</td>\n",
       "      <td>0.131572</td>\n",
       "      <td>0.050466</td>\n",
       "      <td>0.029801</td>\n",
       "      <td>0.203440</td>\n",
       "    </tr>\n",
       "    <tr>\n",
       "      <th>1</th>\n",
       "      <td>0.002484</td>\n",
       "      <td>0.118605</td>\n",
       "      <td>0.048999</td>\n",
       "      <td>0.028364</td>\n",
       "      <td>0.055015</td>\n",
       "      <td>0.003715</td>\n",
       "      <td>0.081013</td>\n",
       "      <td>0.046173</td>\n",
       "      <td>0.056940</td>\n",
       "      <td>-0.002871</td>\n",
       "      <td>...</td>\n",
       "      <td>0.044044</td>\n",
       "      <td>0.001363</td>\n",
       "      <td>0.068249</td>\n",
       "      <td>-0.059391</td>\n",
       "      <td>-0.003889</td>\n",
       "      <td>0.051636</td>\n",
       "      <td>-0.000920</td>\n",
       "      <td>0.058116</td>\n",
       "      <td>0.043718</td>\n",
       "      <td>0.090225</td>\n",
       "    </tr>\n",
       "    <tr>\n",
       "      <th>2</th>\n",
       "      <td>0.185656</td>\n",
       "      <td>0.006219</td>\n",
       "      <td>0.420119</td>\n",
       "      <td>0.162381</td>\n",
       "      <td>0.108615</td>\n",
       "      <td>0.033793</td>\n",
       "      <td>0.155083</td>\n",
       "      <td>0.128526</td>\n",
       "      <td>0.135514</td>\n",
       "      <td>0.389925</td>\n",
       "      <td>...</td>\n",
       "      <td>0.261900</td>\n",
       "      <td>0.301667</td>\n",
       "      <td>0.264219</td>\n",
       "      <td>0.427613</td>\n",
       "      <td>0.301321</td>\n",
       "      <td>0.261491</td>\n",
       "      <td>0.339039</td>\n",
       "      <td>0.339079</td>\n",
       "      <td>0.212141</td>\n",
       "      <td>0.033785</td>\n",
       "    </tr>\n",
       "    <tr>\n",
       "      <th>3</th>\n",
       "      <td>0.111666</td>\n",
       "      <td>-0.033179</td>\n",
       "      <td>0.235831</td>\n",
       "      <td>0.098745</td>\n",
       "      <td>0.031973</td>\n",
       "      <td>-0.028897</td>\n",
       "      <td>0.130194</td>\n",
       "      <td>0.051725</td>\n",
       "      <td>0.018912</td>\n",
       "      <td>0.341129</td>\n",
       "      <td>...</td>\n",
       "      <td>0.218624</td>\n",
       "      <td>0.234046</td>\n",
       "      <td>0.138283</td>\n",
       "      <td>0.303846</td>\n",
       "      <td>0.249212</td>\n",
       "      <td>0.289206</td>\n",
       "      <td>0.254661</td>\n",
       "      <td>0.333683</td>\n",
       "      <td>0.217901</td>\n",
       "      <td>0.089017</td>\n",
       "    </tr>\n",
       "    <tr>\n",
       "      <th>4</th>\n",
       "      <td>0.399749</td>\n",
       "      <td>0.130067</td>\n",
       "      <td>0.254473</td>\n",
       "      <td>0.093214</td>\n",
       "      <td>0.020651</td>\n",
       "      <td>-0.000603</td>\n",
       "      <td>0.148312</td>\n",
       "      <td>0.121372</td>\n",
       "      <td>0.093438</td>\n",
       "      <td>0.254590</td>\n",
       "      <td>...</td>\n",
       "      <td>0.140518</td>\n",
       "      <td>0.165933</td>\n",
       "      <td>0.125031</td>\n",
       "      <td>0.228597</td>\n",
       "      <td>0.215218</td>\n",
       "      <td>0.174714</td>\n",
       "      <td>0.277391</td>\n",
       "      <td>0.190334</td>\n",
       "      <td>0.115369</td>\n",
       "      <td>0.016086</td>\n",
       "    </tr>\n",
       "    <tr>\n",
       "      <th>...</th>\n",
       "      <td>...</td>\n",
       "      <td>...</td>\n",
       "      <td>...</td>\n",
       "      <td>...</td>\n",
       "      <td>...</td>\n",
       "      <td>...</td>\n",
       "      <td>...</td>\n",
       "      <td>...</td>\n",
       "      <td>...</td>\n",
       "      <td>...</td>\n",
       "      <td>...</td>\n",
       "      <td>...</td>\n",
       "      <td>...</td>\n",
       "      <td>...</td>\n",
       "      <td>...</td>\n",
       "      <td>...</td>\n",
       "      <td>...</td>\n",
       "      <td>...</td>\n",
       "      <td>...</td>\n",
       "      <td>...</td>\n",
       "      <td>...</td>\n",
       "    </tr>\n",
       "    <tr>\n",
       "      <th>3694</th>\n",
       "      <td>0.214748</td>\n",
       "      <td>0.034046</td>\n",
       "      <td>0.385345</td>\n",
       "      <td>0.187481</td>\n",
       "      <td>0.093083</td>\n",
       "      <td>0.191937</td>\n",
       "      <td>0.432878</td>\n",
       "      <td>0.184067</td>\n",
       "      <td>0.079438</td>\n",
       "      <td>0.273727</td>\n",
       "      <td>...</td>\n",
       "      <td>0.105347</td>\n",
       "      <td>-0.019511</td>\n",
       "      <td>0.034095</td>\n",
       "      <td>0.060038</td>\n",
       "      <td>0.035294</td>\n",
       "      <td>-0.050602</td>\n",
       "      <td>0.067196</td>\n",
       "      <td>0.078169</td>\n",
       "      <td>-0.023550</td>\n",
       "      <td>0.116722</td>\n",
       "    </tr>\n",
       "    <tr>\n",
       "      <th>3695</th>\n",
       "      <td>0.128006</td>\n",
       "      <td>-0.011372</td>\n",
       "      <td>0.214122</td>\n",
       "      <td>0.151275</td>\n",
       "      <td>0.167857</td>\n",
       "      <td>0.126307</td>\n",
       "      <td>0.240906</td>\n",
       "      <td>0.081081</td>\n",
       "      <td>0.130217</td>\n",
       "      <td>0.256143</td>\n",
       "      <td>...</td>\n",
       "      <td>0.070386</td>\n",
       "      <td>0.124061</td>\n",
       "      <td>0.122279</td>\n",
       "      <td>0.031200</td>\n",
       "      <td>0.060413</td>\n",
       "      <td>0.072565</td>\n",
       "      <td>0.071181</td>\n",
       "      <td>0.085496</td>\n",
       "      <td>0.002192</td>\n",
       "      <td>0.158312</td>\n",
       "    </tr>\n",
       "    <tr>\n",
       "      <th>3696</th>\n",
       "      <td>0.244052</td>\n",
       "      <td>-0.008768</td>\n",
       "      <td>0.352740</td>\n",
       "      <td>0.195328</td>\n",
       "      <td>0.147462</td>\n",
       "      <td>0.044622</td>\n",
       "      <td>0.400364</td>\n",
       "      <td>0.083005</td>\n",
       "      <td>0.117159</td>\n",
       "      <td>0.308643</td>\n",
       "      <td>...</td>\n",
       "      <td>0.170665</td>\n",
       "      <td>0.032284</td>\n",
       "      <td>0.067055</td>\n",
       "      <td>0.038199</td>\n",
       "      <td>0.161530</td>\n",
       "      <td>0.035787</td>\n",
       "      <td>0.128967</td>\n",
       "      <td>0.145800</td>\n",
       "      <td>0.041364</td>\n",
       "      <td>0.175452</td>\n",
       "    </tr>\n",
       "    <tr>\n",
       "      <th>3697</th>\n",
       "      <td>0.201446</td>\n",
       "      <td>-0.020718</td>\n",
       "      <td>0.249929</td>\n",
       "      <td>0.118247</td>\n",
       "      <td>0.155976</td>\n",
       "      <td>0.260196</td>\n",
       "      <td>0.349749</td>\n",
       "      <td>0.072532</td>\n",
       "      <td>0.109248</td>\n",
       "      <td>0.219146</td>\n",
       "      <td>...</td>\n",
       "      <td>0.077471</td>\n",
       "      <td>0.068989</td>\n",
       "      <td>0.111842</td>\n",
       "      <td>0.028545</td>\n",
       "      <td>0.026591</td>\n",
       "      <td>0.028616</td>\n",
       "      <td>0.027554</td>\n",
       "      <td>0.109831</td>\n",
       "      <td>0.048373</td>\n",
       "      <td>0.223837</td>\n",
       "    </tr>\n",
       "    <tr>\n",
       "      <th>3698</th>\n",
       "      <td>0.327126</td>\n",
       "      <td>-0.013621</td>\n",
       "      <td>0.506461</td>\n",
       "      <td>0.207270</td>\n",
       "      <td>0.065935</td>\n",
       "      <td>0.043506</td>\n",
       "      <td>0.284357</td>\n",
       "      <td>0.120300</td>\n",
       "      <td>0.211359</td>\n",
       "      <td>0.436776</td>\n",
       "      <td>...</td>\n",
       "      <td>0.343947</td>\n",
       "      <td>0.201406</td>\n",
       "      <td>0.211004</td>\n",
       "      <td>0.303738</td>\n",
       "      <td>0.264873</td>\n",
       "      <td>0.172604</td>\n",
       "      <td>0.300684</td>\n",
       "      <td>0.236755</td>\n",
       "      <td>0.223366</td>\n",
       "      <td>0.138369</td>\n",
       "    </tr>\n",
       "  </tbody>\n",
       "</table>\n",
       "<p>3699 rows × 3236 columns</p>\n",
       "</div>"
      ],
      "text/plain": [
       "          0         1         2         3         4         5         6     \\\n",
       "0     0.052770  0.315462  0.128707  0.254342  0.159552  0.113321  0.150345   \n",
       "1     0.002484  0.118605  0.048999  0.028364  0.055015  0.003715  0.081013   \n",
       "2     0.185656  0.006219  0.420119  0.162381  0.108615  0.033793  0.155083   \n",
       "3     0.111666 -0.033179  0.235831  0.098745  0.031973 -0.028897  0.130194   \n",
       "4     0.399749  0.130067  0.254473  0.093214  0.020651 -0.000603  0.148312   \n",
       "...        ...       ...       ...       ...       ...       ...       ...   \n",
       "3694  0.214748  0.034046  0.385345  0.187481  0.093083  0.191937  0.432878   \n",
       "3695  0.128006 -0.011372  0.214122  0.151275  0.167857  0.126307  0.240906   \n",
       "3696  0.244052 -0.008768  0.352740  0.195328  0.147462  0.044622  0.400364   \n",
       "3697  0.201446 -0.020718  0.249929  0.118247  0.155976  0.260196  0.349749   \n",
       "3698  0.327126 -0.013621  0.506461  0.207270  0.065935  0.043506  0.284357   \n",
       "\n",
       "          7         8         9     ...      3226      3227      3228  \\\n",
       "0     0.370088  0.189452  0.108036  ...  0.013996  0.250126  0.145722   \n",
       "1     0.046173  0.056940 -0.002871  ...  0.044044  0.001363  0.068249   \n",
       "2     0.128526  0.135514  0.389925  ...  0.261900  0.301667  0.264219   \n",
       "3     0.051725  0.018912  0.341129  ...  0.218624  0.234046  0.138283   \n",
       "4     0.121372  0.093438  0.254590  ...  0.140518  0.165933  0.125031   \n",
       "...        ...       ...       ...  ...       ...       ...       ...   \n",
       "3694  0.184067  0.079438  0.273727  ...  0.105347 -0.019511  0.034095   \n",
       "3695  0.081081  0.130217  0.256143  ...  0.070386  0.124061  0.122279   \n",
       "3696  0.083005  0.117159  0.308643  ...  0.170665  0.032284  0.067055   \n",
       "3697  0.072532  0.109248  0.219146  ...  0.077471  0.068989  0.111842   \n",
       "3698  0.120300  0.211359  0.436776  ...  0.343947  0.201406  0.211004   \n",
       "\n",
       "          3229      3230      3231      3232      3233      3234      3235  \n",
       "0     0.154900  0.094754  0.359272  0.131572  0.050466  0.029801  0.203440  \n",
       "1    -0.059391 -0.003889  0.051636 -0.000920  0.058116  0.043718  0.090225  \n",
       "2     0.427613  0.301321  0.261491  0.339039  0.339079  0.212141  0.033785  \n",
       "3     0.303846  0.249212  0.289206  0.254661  0.333683  0.217901  0.089017  \n",
       "4     0.228597  0.215218  0.174714  0.277391  0.190334  0.115369  0.016086  \n",
       "...        ...       ...       ...       ...       ...       ...       ...  \n",
       "3694  0.060038  0.035294 -0.050602  0.067196  0.078169 -0.023550  0.116722  \n",
       "3695  0.031200  0.060413  0.072565  0.071181  0.085496  0.002192  0.158312  \n",
       "3696  0.038199  0.161530  0.035787  0.128967  0.145800  0.041364  0.175452  \n",
       "3697  0.028545  0.026591  0.028616  0.027554  0.109831  0.048373  0.223837  \n",
       "3698  0.303738  0.264873  0.172604  0.300684  0.236755  0.223366  0.138369  \n",
       "\n",
       "[3699 rows x 3236 columns]"
      ]
     },
     "execution_count": 291,
     "metadata": {},
     "output_type": "execute_result"
    }
   ],
   "source": [
    "spd_sim_pd\n"
   ]
  },
  {
   "cell_type": "code",
   "execution_count": 293,
   "metadata": {},
   "outputs": [],
   "source": [
    "fdp_sim_pd.to_json('../results/matrix_fdp.json')\n",
    "gruene_sim_pd.to_csv('../results/matrix_gruene.csv')\n",
    "spd_sim_pd.to_csv('../results/matrix_spd.csv')"
   ]
  },
  {
   "cell_type": "code",
   "execution_count": 287,
   "metadata": {},
   "outputs": [
    {
     "data": {
      "text/html": [
       "<div>\n",
       "<style scoped>\n",
       "    .dataframe tbody tr th:only-of-type {\n",
       "        vertical-align: middle;\n",
       "    }\n",
       "\n",
       "    .dataframe tbody tr th {\n",
       "        vertical-align: top;\n",
       "    }\n",
       "\n",
       "    .dataframe thead th {\n",
       "        text-align: right;\n",
       "    }\n",
       "</style>\n",
       "<table border=\"1\" class=\"dataframe\">\n",
       "  <thead>\n",
       "    <tr style=\"text-align: right;\">\n",
       "      <th></th>\n",
       "      <th>0</th>\n",
       "      <th>1</th>\n",
       "      <th>2</th>\n",
       "      <th>3</th>\n",
       "      <th>4</th>\n",
       "      <th>5</th>\n",
       "      <th>6</th>\n",
       "      <th>7</th>\n",
       "      <th>8</th>\n",
       "      <th>9</th>\n",
       "      <th>...</th>\n",
       "      <th>3226</th>\n",
       "      <th>3227</th>\n",
       "      <th>3228</th>\n",
       "      <th>3229</th>\n",
       "      <th>3230</th>\n",
       "      <th>3231</th>\n",
       "      <th>3232</th>\n",
       "      <th>3233</th>\n",
       "      <th>3234</th>\n",
       "      <th>3235</th>\n",
       "    </tr>\n",
       "  </thead>\n",
       "  <tbody>\n",
       "    <tr>\n",
       "      <th>0</th>\n",
       "      <td>tensor(0.1763)</td>\n",
       "      <td>tensor(0.3330)</td>\n",
       "      <td>tensor(-0.0025)</td>\n",
       "      <td>tensor(0.0997)</td>\n",
       "      <td>tensor(0.1117)</td>\n",
       "      <td>tensor(0.0617)</td>\n",
       "      <td>tensor(0.0519)</td>\n",
       "      <td>tensor(0.1041)</td>\n",
       "      <td>tensor(0.0655)</td>\n",
       "      <td>tensor(-0.0038)</td>\n",
       "      <td>...</td>\n",
       "      <td>tensor(-0.0553)</td>\n",
       "      <td>tensor(-0.0068)</td>\n",
       "      <td>tensor(-0.0499)</td>\n",
       "      <td>tensor(0.0254)</td>\n",
       "      <td>tensor(0.0122)</td>\n",
       "      <td>tensor(0.0586)</td>\n",
       "      <td>tensor(0.0188)</td>\n",
       "      <td>tensor(-0.0951)</td>\n",
       "      <td>tensor(-0.0295)</td>\n",
       "      <td>tensor(0.0195)</td>\n",
       "    </tr>\n",
       "    <tr>\n",
       "      <th>1</th>\n",
       "      <td>tensor(0.2800)</td>\n",
       "      <td>tensor(0.1039)</td>\n",
       "      <td>tensor(0.4224)</td>\n",
       "      <td>tensor(0.2296)</td>\n",
       "      <td>tensor(0.1381)</td>\n",
       "      <td>tensor(0.0197)</td>\n",
       "      <td>tensor(0.2707)</td>\n",
       "      <td>tensor(0.1125)</td>\n",
       "      <td>tensor(0.0095)</td>\n",
       "      <td>tensor(0.2082)</td>\n",
       "      <td>...</td>\n",
       "      <td>tensor(0.0985)</td>\n",
       "      <td>tensor(0.0179)</td>\n",
       "      <td>tensor(0.0095)</td>\n",
       "      <td>tensor(0.2251)</td>\n",
       "      <td>tensor(0.1344)</td>\n",
       "      <td>tensor(0.0829)</td>\n",
       "      <td>tensor(0.1568)</td>\n",
       "      <td>tensor(0.1383)</td>\n",
       "      <td>tensor(0.0150)</td>\n",
       "      <td>tensor(-0.0245)</td>\n",
       "    </tr>\n",
       "    <tr>\n",
       "      <th>2</th>\n",
       "      <td>tensor(0.0509)</td>\n",
       "      <td>tensor(0.0178)</td>\n",
       "      <td>tensor(0.1649)</td>\n",
       "      <td>tensor(0.2800)</td>\n",
       "      <td>tensor(0.0299)</td>\n",
       "      <td>tensor(0.1088)</td>\n",
       "      <td>tensor(0.0534)</td>\n",
       "      <td>tensor(0.2271)</td>\n",
       "      <td>tensor(0.0957)</td>\n",
       "      <td>tensor(0.0902)</td>\n",
       "      <td>...</td>\n",
       "      <td>tensor(0.0485)</td>\n",
       "      <td>tensor(0.0657)</td>\n",
       "      <td>tensor(0.1357)</td>\n",
       "      <td>tensor(0.3042)</td>\n",
       "      <td>tensor(0.1041)</td>\n",
       "      <td>tensor(0.0417)</td>\n",
       "      <td>tensor(0.1367)</td>\n",
       "      <td>tensor(0.0494)</td>\n",
       "      <td>tensor(0.0785)</td>\n",
       "      <td>tensor(-0.0173)</td>\n",
       "    </tr>\n",
       "    <tr>\n",
       "      <th>3</th>\n",
       "      <td>tensor(0.0220)</td>\n",
       "      <td>tensor(0.0711)</td>\n",
       "      <td>tensor(0.1341)</td>\n",
       "      <td>tensor(0.4852)</td>\n",
       "      <td>tensor(-0.0308)</td>\n",
       "      <td>tensor(0.1834)</td>\n",
       "      <td>tensor(0.2552)</td>\n",
       "      <td>tensor(0.0639)</td>\n",
       "      <td>tensor(0.1090)</td>\n",
       "      <td>tensor(-0.0071)</td>\n",
       "      <td>...</td>\n",
       "      <td>tensor(0.1299)</td>\n",
       "      <td>tensor(-0.0314)</td>\n",
       "      <td>tensor(0.0262)</td>\n",
       "      <td>tensor(0.0169)</td>\n",
       "      <td>tensor(-0.0024)</td>\n",
       "      <td>tensor(-0.0107)</td>\n",
       "      <td>tensor(-0.0882)</td>\n",
       "      <td>tensor(-0.0443)</td>\n",
       "      <td>tensor(0.0189)</td>\n",
       "      <td>tensor(-0.0514)</td>\n",
       "    </tr>\n",
       "    <tr>\n",
       "      <th>4</th>\n",
       "      <td>tensor(0.0902)</td>\n",
       "      <td>tensor(0.0754)</td>\n",
       "      <td>tensor(0.0753)</td>\n",
       "      <td>tensor(0.1102)</td>\n",
       "      <td>tensor(0.0375)</td>\n",
       "      <td>tensor(0.0892)</td>\n",
       "      <td>tensor(0.1001)</td>\n",
       "      <td>tensor(0.1705)</td>\n",
       "      <td>tensor(0.0890)</td>\n",
       "      <td>tensor(0.1492)</td>\n",
       "      <td>...</td>\n",
       "      <td>tensor(0.0620)</td>\n",
       "      <td>tensor(0.1772)</td>\n",
       "      <td>tensor(0.0716)</td>\n",
       "      <td>tensor(0.1722)</td>\n",
       "      <td>tensor(0.1409)</td>\n",
       "      <td>tensor(0.1976)</td>\n",
       "      <td>tensor(0.1585)</td>\n",
       "      <td>tensor(0.1038)</td>\n",
       "      <td>tensor(0.1560)</td>\n",
       "      <td>tensor(-0.0226)</td>\n",
       "    </tr>\n",
       "    <tr>\n",
       "      <th>...</th>\n",
       "      <td>...</td>\n",
       "      <td>...</td>\n",
       "      <td>...</td>\n",
       "      <td>...</td>\n",
       "      <td>...</td>\n",
       "      <td>...</td>\n",
       "      <td>...</td>\n",
       "      <td>...</td>\n",
       "      <td>...</td>\n",
       "      <td>...</td>\n",
       "      <td>...</td>\n",
       "      <td>...</td>\n",
       "      <td>...</td>\n",
       "      <td>...</td>\n",
       "      <td>...</td>\n",
       "      <td>...</td>\n",
       "      <td>...</td>\n",
       "      <td>...</td>\n",
       "      <td>...</td>\n",
       "      <td>...</td>\n",
       "      <td>...</td>\n",
       "    </tr>\n",
       "    <tr>\n",
       "      <th>2209</th>\n",
       "      <td>tensor(0.1718)</td>\n",
       "      <td>tensor(0.0198)</td>\n",
       "      <td>tensor(0.3247)</td>\n",
       "      <td>tensor(0.1665)</td>\n",
       "      <td>tensor(0.0523)</td>\n",
       "      <td>tensor(0.0727)</td>\n",
       "      <td>tensor(0.2829)</td>\n",
       "      <td>tensor(0.0308)</td>\n",
       "      <td>tensor(0.1622)</td>\n",
       "      <td>tensor(0.1295)</td>\n",
       "      <td>...</td>\n",
       "      <td>tensor(0.1563)</td>\n",
       "      <td>tensor(-0.0888)</td>\n",
       "      <td>tensor(0.1029)</td>\n",
       "      <td>tensor(0.0334)</td>\n",
       "      <td>tensor(0.0478)</td>\n",
       "      <td>tensor(-0.0684)</td>\n",
       "      <td>tensor(0.0290)</td>\n",
       "      <td>tensor(0.1103)</td>\n",
       "      <td>tensor(0.0288)</td>\n",
       "      <td>tensor(0.0026)</td>\n",
       "    </tr>\n",
       "    <tr>\n",
       "      <th>2210</th>\n",
       "      <td>tensor(0.0127)</td>\n",
       "      <td>tensor(0.1236)</td>\n",
       "      <td>tensor(0.0367)</td>\n",
       "      <td>tensor(0.1230)</td>\n",
       "      <td>tensor(0.0537)</td>\n",
       "      <td>tensor(0.1219)</td>\n",
       "      <td>tensor(0.0770)</td>\n",
       "      <td>tensor(0.0735)</td>\n",
       "      <td>tensor(0.1532)</td>\n",
       "      <td>tensor(0.0312)</td>\n",
       "      <td>...</td>\n",
       "      <td>tensor(-0.0230)</td>\n",
       "      <td>tensor(0.0571)</td>\n",
       "      <td>tensor(0.0600)</td>\n",
       "      <td>tensor(0.0479)</td>\n",
       "      <td>tensor(-0.0162)</td>\n",
       "      <td>tensor(0.1161)</td>\n",
       "      <td>tensor(0.0293)</td>\n",
       "      <td>tensor(-0.0225)</td>\n",
       "      <td>tensor(-0.0026)</td>\n",
       "      <td>tensor(0.0352)</td>\n",
       "    </tr>\n",
       "    <tr>\n",
       "      <th>2211</th>\n",
       "      <td>tensor(0.0981)</td>\n",
       "      <td>tensor(0.0794)</td>\n",
       "      <td>tensor(0.1505)</td>\n",
       "      <td>tensor(0.1373)</td>\n",
       "      <td>tensor(-0.0181)</td>\n",
       "      <td>tensor(0.1654)</td>\n",
       "      <td>tensor(0.2696)</td>\n",
       "      <td>tensor(0.0816)</td>\n",
       "      <td>tensor(0.1083)</td>\n",
       "      <td>tensor(0.1541)</td>\n",
       "      <td>...</td>\n",
       "      <td>tensor(0.1234)</td>\n",
       "      <td>tensor(0.0355)</td>\n",
       "      <td>tensor(0.1417)</td>\n",
       "      <td>tensor(0.0097)</td>\n",
       "      <td>tensor(-0.0190)</td>\n",
       "      <td>tensor(0.0497)</td>\n",
       "      <td>tensor(0.0158)</td>\n",
       "      <td>tensor(0.1054)</td>\n",
       "      <td>tensor(0.1018)</td>\n",
       "      <td>tensor(0.0148)</td>\n",
       "    </tr>\n",
       "    <tr>\n",
       "      <th>2212</th>\n",
       "      <td>tensor(0.2130)</td>\n",
       "      <td>tensor(0.0212)</td>\n",
       "      <td>tensor(0.4182)</td>\n",
       "      <td>tensor(0.2080)</td>\n",
       "      <td>tensor(0.0097)</td>\n",
       "      <td>tensor(-0.0128)</td>\n",
       "      <td>tensor(0.2571)</td>\n",
       "      <td>tensor(0.0493)</td>\n",
       "      <td>tensor(0.0954)</td>\n",
       "      <td>tensor(0.3015)</td>\n",
       "      <td>...</td>\n",
       "      <td>tensor(0.2298)</td>\n",
       "      <td>tensor(0.0344)</td>\n",
       "      <td>tensor(0.0955)</td>\n",
       "      <td>tensor(0.1833)</td>\n",
       "      <td>tensor(0.1017)</td>\n",
       "      <td>tensor(0.0696)</td>\n",
       "      <td>tensor(0.0821)</td>\n",
       "      <td>tensor(0.1948)</td>\n",
       "      <td>tensor(0.1894)</td>\n",
       "      <td>tensor(0.0046)</td>\n",
       "    </tr>\n",
       "    <tr>\n",
       "      <th>2213</th>\n",
       "      <td>tensor(0.2990)</td>\n",
       "      <td>tensor(0.0149)</td>\n",
       "      <td>tensor(0.5764)</td>\n",
       "      <td>tensor(0.2019)</td>\n",
       "      <td>tensor(0.0954)</td>\n",
       "      <td>tensor(0.0105)</td>\n",
       "      <td>tensor(0.2663)</td>\n",
       "      <td>tensor(0.0693)</td>\n",
       "      <td>tensor(0.0488)</td>\n",
       "      <td>tensor(0.3542)</td>\n",
       "      <td>...</td>\n",
       "      <td>tensor(0.3750)</td>\n",
       "      <td>tensor(0.1574)</td>\n",
       "      <td>tensor(0.1432)</td>\n",
       "      <td>tensor(0.3005)</td>\n",
       "      <td>tensor(0.2305)</td>\n",
       "      <td>tensor(0.1410)</td>\n",
       "      <td>tensor(0.2160)</td>\n",
       "      <td>tensor(0.2246)</td>\n",
       "      <td>tensor(0.1598)</td>\n",
       "      <td>tensor(-0.0023)</td>\n",
       "    </tr>\n",
       "  </tbody>\n",
       "</table>\n",
       "<p>2214 rows × 3236 columns</p>\n",
       "</div>"
      ],
      "text/plain": [
       "                0               1                2               3     \\\n",
       "0     tensor(0.1763)  tensor(0.3330)  tensor(-0.0025)  tensor(0.0997)   \n",
       "1     tensor(0.2800)  tensor(0.1039)   tensor(0.4224)  tensor(0.2296)   \n",
       "2     tensor(0.0509)  tensor(0.0178)   tensor(0.1649)  tensor(0.2800)   \n",
       "3     tensor(0.0220)  tensor(0.0711)   tensor(0.1341)  tensor(0.4852)   \n",
       "4     tensor(0.0902)  tensor(0.0754)   tensor(0.0753)  tensor(0.1102)   \n",
       "...              ...             ...              ...             ...   \n",
       "2209  tensor(0.1718)  tensor(0.0198)   tensor(0.3247)  tensor(0.1665)   \n",
       "2210  tensor(0.0127)  tensor(0.1236)   tensor(0.0367)  tensor(0.1230)   \n",
       "2211  tensor(0.0981)  tensor(0.0794)   tensor(0.1505)  tensor(0.1373)   \n",
       "2212  tensor(0.2130)  tensor(0.0212)   tensor(0.4182)  tensor(0.2080)   \n",
       "2213  tensor(0.2990)  tensor(0.0149)   tensor(0.5764)  tensor(0.2019)   \n",
       "\n",
       "                 4                5               6               7     \\\n",
       "0      tensor(0.1117)   tensor(0.0617)  tensor(0.0519)  tensor(0.1041)   \n",
       "1      tensor(0.1381)   tensor(0.0197)  tensor(0.2707)  tensor(0.1125)   \n",
       "2      tensor(0.0299)   tensor(0.1088)  tensor(0.0534)  tensor(0.2271)   \n",
       "3     tensor(-0.0308)   tensor(0.1834)  tensor(0.2552)  tensor(0.0639)   \n",
       "4      tensor(0.0375)   tensor(0.0892)  tensor(0.1001)  tensor(0.1705)   \n",
       "...               ...              ...             ...             ...   \n",
       "2209   tensor(0.0523)   tensor(0.0727)  tensor(0.2829)  tensor(0.0308)   \n",
       "2210   tensor(0.0537)   tensor(0.1219)  tensor(0.0770)  tensor(0.0735)   \n",
       "2211  tensor(-0.0181)   tensor(0.1654)  tensor(0.2696)  tensor(0.0816)   \n",
       "2212   tensor(0.0097)  tensor(-0.0128)  tensor(0.2571)  tensor(0.0493)   \n",
       "2213   tensor(0.0954)   tensor(0.0105)  tensor(0.2663)  tensor(0.0693)   \n",
       "\n",
       "                8                9     ...             3226             3227  \\\n",
       "0     tensor(0.0655)  tensor(-0.0038)  ...  tensor(-0.0553)  tensor(-0.0068)   \n",
       "1     tensor(0.0095)   tensor(0.2082)  ...   tensor(0.0985)   tensor(0.0179)   \n",
       "2     tensor(0.0957)   tensor(0.0902)  ...   tensor(0.0485)   tensor(0.0657)   \n",
       "3     tensor(0.1090)  tensor(-0.0071)  ...   tensor(0.1299)  tensor(-0.0314)   \n",
       "4     tensor(0.0890)   tensor(0.1492)  ...   tensor(0.0620)   tensor(0.1772)   \n",
       "...              ...              ...  ...              ...              ...   \n",
       "2209  tensor(0.1622)   tensor(0.1295)  ...   tensor(0.1563)  tensor(-0.0888)   \n",
       "2210  tensor(0.1532)   tensor(0.0312)  ...  tensor(-0.0230)   tensor(0.0571)   \n",
       "2211  tensor(0.1083)   tensor(0.1541)  ...   tensor(0.1234)   tensor(0.0355)   \n",
       "2212  tensor(0.0954)   tensor(0.3015)  ...   tensor(0.2298)   tensor(0.0344)   \n",
       "2213  tensor(0.0488)   tensor(0.3542)  ...   tensor(0.3750)   tensor(0.1574)   \n",
       "\n",
       "                 3228            3229             3230             3231  \\\n",
       "0     tensor(-0.0499)  tensor(0.0254)   tensor(0.0122)   tensor(0.0586)   \n",
       "1      tensor(0.0095)  tensor(0.2251)   tensor(0.1344)   tensor(0.0829)   \n",
       "2      tensor(0.1357)  tensor(0.3042)   tensor(0.1041)   tensor(0.0417)   \n",
       "3      tensor(0.0262)  tensor(0.0169)  tensor(-0.0024)  tensor(-0.0107)   \n",
       "4      tensor(0.0716)  tensor(0.1722)   tensor(0.1409)   tensor(0.1976)   \n",
       "...               ...             ...              ...              ...   \n",
       "2209   tensor(0.1029)  tensor(0.0334)   tensor(0.0478)  tensor(-0.0684)   \n",
       "2210   tensor(0.0600)  tensor(0.0479)  tensor(-0.0162)   tensor(0.1161)   \n",
       "2211   tensor(0.1417)  tensor(0.0097)  tensor(-0.0190)   tensor(0.0497)   \n",
       "2212   tensor(0.0955)  tensor(0.1833)   tensor(0.1017)   tensor(0.0696)   \n",
       "2213   tensor(0.1432)  tensor(0.3005)   tensor(0.2305)   tensor(0.1410)   \n",
       "\n",
       "                 3232             3233             3234             3235  \n",
       "0      tensor(0.0188)  tensor(-0.0951)  tensor(-0.0295)   tensor(0.0195)  \n",
       "1      tensor(0.1568)   tensor(0.1383)   tensor(0.0150)  tensor(-0.0245)  \n",
       "2      tensor(0.1367)   tensor(0.0494)   tensor(0.0785)  tensor(-0.0173)  \n",
       "3     tensor(-0.0882)  tensor(-0.0443)   tensor(0.0189)  tensor(-0.0514)  \n",
       "4      tensor(0.1585)   tensor(0.1038)   tensor(0.1560)  tensor(-0.0226)  \n",
       "...               ...              ...              ...              ...  \n",
       "2209   tensor(0.0290)   tensor(0.1103)   tensor(0.0288)   tensor(0.0026)  \n",
       "2210   tensor(0.0293)  tensor(-0.0225)  tensor(-0.0026)   tensor(0.0352)  \n",
       "2211   tensor(0.0158)   tensor(0.1054)   tensor(0.1018)   tensor(0.0148)  \n",
       "2212   tensor(0.0821)   tensor(0.1948)   tensor(0.1894)   tensor(0.0046)  \n",
       "2213   tensor(0.2160)   tensor(0.2246)   tensor(0.1598)  tensor(-0.0023)  \n",
       "\n",
       "[2214 rows x 3236 columns]"
      ]
     },
     "execution_count": 287,
     "metadata": {},
     "output_type": "execute_result"
    }
   ],
   "source": []
  },
  {
   "cell_type": "code",
   "execution_count": 268,
   "metadata": {},
   "outputs": [
    {
     "name": "stdout",
     "output_type": "stream",
     "text": [
      "huggingface/tokenizers: The current process just got forked, after parallelism has already been used. Disabling parallelism to avoid deadlocks...\n",
      "To disable this warning, you can either:\n",
      "\t- Avoid using `tokenizers` before the fork if possible\n",
      "\t- Explicitly set the environment variable TOKENIZERS_PARALLELISM=(true | false)\n",
      "Untitled.ipynb clean_text.R\r\n"
     ]
    }
   ],
   "source": []
  },
  {
   "cell_type": "markdown",
   "metadata": {},
   "source": [
    "df = pd.DataFrame(pairs)"
   ]
  },
  {
   "cell_type": "code",
   "execution_count": 151,
   "metadata": {},
   "outputs": [],
   "source": [
    "df = df.sort_values(by='score', ascending=False).reset_index()"
   ]
  },
  {
   "cell_type": "code",
   "execution_count": 152,
   "metadata": {},
   "outputs": [
    {
     "data": {
      "text/html": [
       "<div>\n",
       "<style scoped>\n",
       "    .dataframe tbody tr th:only-of-type {\n",
       "        vertical-align: middle;\n",
       "    }\n",
       "\n",
       "    .dataframe tbody tr th {\n",
       "        vertical-align: top;\n",
       "    }\n",
       "\n",
       "    .dataframe thead th {\n",
       "        text-align: right;\n",
       "    }\n",
       "</style>\n",
       "<table border=\"1\" class=\"dataframe\">\n",
       "  <thead>\n",
       "    <tr style=\"text-align: right;\">\n",
       "      <th></th>\n",
       "      <th>level_0</th>\n",
       "      <th>index</th>\n",
       "      <th>score</th>\n",
       "      <th>sentence</th>\n",
       "      <th>sentence_coal</th>\n",
       "      <th>party</th>\n",
       "    </tr>\n",
       "  </thead>\n",
       "  <tbody>\n",
       "    <tr>\n",
       "      <th>0</th>\n",
       "      <td>1252</td>\n",
       "      <td>[1252]</td>\n",
       "      <td>0.412663</td>\n",
       "      <td>an.</td>\n",
       "      <td>3</td>\n",
       "      <td>0</td>\n",
       "    </tr>\n",
       "    <tr>\n",
       "      <th>1</th>\n",
       "      <td>1250</td>\n",
       "      <td>[1250]</td>\n",
       "      <td>0.395891</td>\n",
       "      <td>will.</td>\n",
       "      <td>3</td>\n",
       "      <td>0</td>\n",
       "    </tr>\n",
       "    <tr>\n",
       "      <th>2</th>\n",
       "      <td>488</td>\n",
       "      <td>[488]</td>\n",
       "      <td>0.364793</td>\n",
       "      <td>ren.</td>\n",
       "      <td>3</td>\n",
       "      <td>0</td>\n",
       "    </tr>\n",
       "    <tr>\n",
       "      <th>3</th>\n",
       "      <td>2180</td>\n",
       "      <td>[2180]</td>\n",
       "      <td>0.353215</td>\n",
       "      <td>men.</td>\n",
       "      <td>3</td>\n",
       "      <td>0</td>\n",
       "    </tr>\n",
       "    <tr>\n",
       "      <th>4</th>\n",
       "      <td>1640</td>\n",
       "      <td>[1640]</td>\n",
       "      <td>0.335015</td>\n",
       "      <td>21.</td>\n",
       "      <td>3</td>\n",
       "      <td>0</td>\n",
       "    </tr>\n",
       "  </tbody>\n",
       "</table>\n",
       "</div>"
      ],
      "text/plain": [
       "   level_0   index     score sentence  sentence_coal  party\n",
       "0     1252  [1252]  0.412663      an.              3      0\n",
       "1     1250  [1250]  0.395891    will.              3      0\n",
       "2      488   [488]  0.364793     ren.              3      0\n",
       "3     2180  [2180]  0.353215     men.              3      0\n",
       "4     1640  [1640]  0.335015      21.              3      0"
      ]
     },
     "execution_count": 152,
     "metadata": {},
     "output_type": "execute_result"
    }
   ],
   "source": [
    "df.head()"
   ]
  },
  {
   "cell_type": "code",
   "execution_count": 138,
   "metadata": {},
   "outputs": [
    {
     "name": "stdout",
     "output_type": "stream",
     "text": [
      "Für die Wahlen zum Europäischen Parlament setzen wir uns dafür ein, dass die Bürger*innen mit ihrer Stimme für einen Spitzenkandidaten bzw.\n"
     ]
    }
   ],
   "source": [
    "print(df.sentence[4])"
   ]
  },
  {
   "cell_type": "code",
   "execution_count": null,
   "metadata": {},
   "outputs": [],
   "source": []
  }
 ],
 "metadata": {
  "kernelspec": {
   "display_name": "venv",
   "language": "python",
   "name": "venv"
  },
  "language_info": {
   "codemirror_mode": {
    "name": "ipython",
    "version": 3
   },
   "file_extension": ".py",
   "mimetype": "text/x-python",
   "name": "python",
   "nbconvert_exporter": "python",
   "pygments_lexer": "ipython3",
   "version": "3.8.2"
  }
 },
 "nbformat": 4,
 "nbformat_minor": 4
}
